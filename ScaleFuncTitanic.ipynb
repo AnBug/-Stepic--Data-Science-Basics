{
 "cells": [
  {
   "cell_type": "code",
   "execution_count": null,
   "metadata": {},
   "outputs": [],
   "source": [
    "# функция для добавления ползунка, отвечающего за масштаб - из задачи титаник\n",
    "\n",
    "def draw_graphviz(graph):\n",
    "    import re\n",
    "    import ipywidgets as widgets\n",
    "    from IPython.display import SVG, HTML\n",
    "    from graphviz import Source\n",
    "    \n",
    "    graph = Source(graph)\n",
    "    image = graph.pipe(format=\"svg\")\n",
    "    svg = SVG(image)\n",
    "    svg_data = svg.data\n",
    "    svg_data = re.sub(\n",
    "        r'<svg xmlns=\\\"http://www\\.w3\\.org/2000/svg\\\" xmlns:xlink=\\\"http://www\\.w3\\.org/1999/xlink\\\" width=\\\"\\d+pt\\\" height=\\\"\\d+pt\\\"',\n",
    "        '<svg xmlns=\"http://www.w3.org/2000/svg\" xmlns:xlink=\"http://www.w3.org/1999/xlink\" width=\"100%\" height=\"100%\"',\n",
    "        svg_data,\n",
    "    )\n",
    "    \n",
    "    @widgets.interact(scale=widgets.IntSlider(min=30, max=500, step=1, value=100, description=\"Scale (%):\", continuous_update=False))\n",
    "    def _draw_svg(scale):\n",
    "        return HTML('<div style=\"width: {width}%;\">{svg}</div>'.format(width=scale, svg=svg_data))\n",
    "    return _draw_svg\n",
    "\n",
    "graph = tree.export_graphviz(clf, out_file=None, feature_names=list(X), class_names=[\"Died\", \"Survived\"], filled=True)\n",
    "draw_graphviz(graph)"
   ]
  }
 ],
 "metadata": {
  "kernelspec": {
   "display_name": "Python 3",
   "language": "python",
   "name": "python3"
  },
  "language_info": {
   "codemirror_mode": {
    "name": "ipython",
    "version": 3
   },
   "file_extension": ".py",
   "mimetype": "text/x-python",
   "name": "python",
   "nbconvert_exporter": "python",
   "pygments_lexer": "ipython3",
   "version": "3.7.6"
  }
 },
 "nbformat": 4,
 "nbformat_minor": 4
}
